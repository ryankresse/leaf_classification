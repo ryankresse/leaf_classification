{
 "cells": [
  {
   "cell_type": "markdown",
   "metadata": {},
   "source": [
    "## Set up the dataframe."
   ]
  },
  {
   "cell_type": "markdown",
   "metadata": {},
   "source": [
    "Read the data into a Rdd."
   ]
  },
  {
   "cell_type": "code",
   "execution_count": 1,
   "metadata": {
    "collapsed": false
   },
   "outputs": [],
   "source": [
    "import findspark\n",
    "findspark.init('/usr/local/bin/spark-2.0.1')\n",
    "\n",
    "import pyspark\n",
    "from pyspark.sql import SparkSession\n",
    "spark = SparkSession.builder \\\n",
    "    .master(\"local\") \\\n",
    "    .appName(\"Word Count\") \\\n",
    "    .getOrCreate()"
   ]
  },
  {
   "cell_type": "code",
   "execution_count": 2,
   "metadata": {
    "collapsed": false
   },
   "outputs": [],
   "source": [
    "sc = spark.sparkContext\n",
    "trainRdd = sc.textFile('input/tr.csv').cache()\n",
    "testRdd = sc.textFile('input/test.csv').cache()"
   ]
  },
  {
   "cell_type": "code",
   "execution_count": 3,
   "metadata": {
    "collapsed": true
   },
   "outputs": [],
   "source": [
    "from pyspark.sql.types import *\n",
    "\n",
    "def makeDF(rdd, data_set='train'):\n",
    "    #Save the row in the rdd that contains the column names, then delete it from the rdd.\n",
    "    header = rdd.first()\n",
    "    header_rdd = rdd.filter(lambda l: 'margin' in l)\n",
    "    rdd_no_header = rdd.subtract(header_rdd)\n",
    "\n",
    "    #Prepare the schema and rdd to build the dataframe. \n",
    "    #Species will be a string while all columns will be floats.\n",
    "    #Note if data_set == 'test', the won't have a species column\n",
    "    fields = [StructField(field_name, FloatType(), True) for field_name in header.split(\",\")]   \n",
    "    if data_set == 'train':\n",
    "        fields[1].dataType = StringType()\n",
    "        rdd_split = rdd_no_header.map(lambda l: l.split(\",\")).map(lambda l: [float(x) if i != 1 else str(x) for i,x in enumerate(l)])\n",
    "    else:\n",
    "        rdd_split = rdd_no_header.map(lambda l: l.split(\",\")).map(lambda l: [float(x) for i,x in enumerate(l)])\n",
    "\n",
    "    schema=StructType(fields)\n",
    "    \n",
    "    return spark.createDataFrame(rdd_split, schema).cache()\n",
    "    "
   ]
  },
  {
   "cell_type": "code",
   "execution_count": 4,
   "metadata": {
    "collapsed": false
   },
   "outputs": [],
   "source": [
    "train_df = makeDF(trainRdd)\n",
    "test_df = makeDF(testRdd, data_set='test')"
   ]
  },
  {
   "cell_type": "code",
   "execution_count": 5,
   "metadata": {
    "collapsed": false
   },
   "outputs": [
    {
     "name": "stdout",
     "output_type": "stream",
     "text": [
      "+--------------------+\n",
      "|             species|\n",
      "+--------------------+\n",
      "|Magnolia_Salicifolia|\n",
      "|Betula_Austrosine...|\n",
      "|  Tilia_Platyphyllos|\n",
      "|     Ilex_Aquifolium|\n",
      "|         Acer_Pictum|\n",
      "|  Quercus_Imbricaria|\n",
      "|   Quercus_Agrifolia|\n",
      "|    Acer_Saccharinum|\n",
      "|Quercus_Semecarpi...|\n",
      "|    Cornus_Chinensis|\n",
      "|     Acer_Capillipes|\n",
      "|     Quercus_Pontica|\n",
      "|      Viburnum_Tinus|\n",
      "|         Sorbus_Aria|\n",
      "|Liriodendron_Tuli...|\n",
      "|Quercus_Infectori...|\n",
      "|      Quercus_Texana|\n",
      "|Quercus_Phillyrae...|\n",
      "|   Quercus_Agrifolia|\n",
      "|   Cotinus_Coggygria|\n",
      "+--------------------+\n",
      "only showing top 20 rows\n",
      "\n"
     ]
    }
   ],
   "source": [
    "train_df.select('species').show()"
   ]
  },
  {
   "cell_type": "markdown",
   "metadata": {},
   "source": [
    "## Prepare the data for training."
   ]
  },
  {
   "cell_type": "markdown",
   "metadata": {},
   "source": [
    "Label encode the target column in the training set."
   ]
  },
  {
   "cell_type": "code",
   "execution_count": 6,
   "metadata": {
    "collapsed": false
   },
   "outputs": [
    {
     "name": "stdout",
     "output_type": "stream",
     "text": [
      "+--------------------+----------+\n",
      "|             species|speciesEnc|\n",
      "+--------------------+----------+\n",
      "|Magnolia_Salicifolia|      38.0|\n",
      "|Betula_Austrosine...|       1.0|\n",
      "|  Tilia_Platyphyllos|      87.0|\n",
      "|     Ilex_Aquifolium|      22.0|\n",
      "|         Acer_Pictum|      82.0|\n",
      "|  Quercus_Imbricaria|      31.0|\n",
      "|   Quercus_Agrifolia|      32.0|\n",
      "|    Acer_Saccharinum|      79.0|\n",
      "|Quercus_Semecarpi...|      28.0|\n",
      "|    Cornus_Chinensis|      74.0|\n",
      "|     Acer_Capillipes|      43.0|\n",
      "|     Quercus_Pontica|      50.0|\n",
      "|      Viburnum_Tinus|       8.0|\n",
      "|         Sorbus_Aria|       0.0|\n",
      "|Liriodendron_Tuli...|      73.0|\n",
      "|Quercus_Infectori...|      23.0|\n",
      "|      Quercus_Texana|      75.0|\n",
      "|Quercus_Phillyrae...|      44.0|\n",
      "|   Quercus_Agrifolia|      32.0|\n",
      "|   Cotinus_Coggygria|      64.0|\n",
      "+--------------------+----------+\n",
      "only showing top 20 rows\n",
      "\n"
     ]
    }
   ],
   "source": [
    "from pyspark.ml.feature import IndexToString, StringIndexer\n",
    "stInd = StringIndexer(inputCol='species', outputCol='speciesEnc')\n",
    "stIndModel = stInd.fit(train_df)\n",
    "train_df_enc = stIndModel.transform(train_df).cache()\n",
    "train_df_enc.select('species', 'speciesEnc').show()"
   ]
  },
  {
   "cell_type": "markdown",
   "metadata": {},
   "source": [
    "Create the features column that will be used to train the model."
   ]
  },
  {
   "cell_type": "code",
   "execution_count": 7,
   "metadata": {
    "collapsed": false
   },
   "outputs": [
    {
     "name": "stdout",
     "output_type": "stream",
     "text": [
      "+--------------------+----------+\n",
      "|            features|speciesEnc|\n",
      "+--------------------+----------+\n",
      "|[0.06054700165987...|      38.0|\n",
      "|[0.00195299996994...|       1.0|\n",
      "|[0.00195299996994...|      87.0|\n",
      "|[0.00585900014266...|      22.0|\n",
      "|[0.00195299996994...|      82.0|\n",
      "|[0.05078100040555...|      31.0|\n",
      "|[0.01367199979722...|      32.0|\n",
      "|[0.0,0.0,0.011718...|      79.0|\n",
      "|[0.02734399959444...|      28.0|\n",
      "|[0.03515600040555...|      74.0|\n",
      "|[0.00195299996994...|      43.0|\n",
      "|[0.00195299996994...|      50.0|\n",
      "|[0.03710899874567...|       8.0|\n",
      "|[0.0,0.0,0.009766...|       0.0|\n",
      "|[0.03710899874567...|      73.0|\n",
      "|[0.01757800020277...|      23.0|\n",
      "|[0.0,0.0,0.111330...|      75.0|\n",
      "|[0.02734399959444...|      44.0|\n",
      "|[0.01171899959444...|      32.0|\n",
      "|[0.04882799834012...|      64.0|\n",
      "+--------------------+----------+\n",
      "only showing top 20 rows\n",
      "\n"
     ]
    }
   ],
   "source": [
    "from pyspark.ml.feature import VectorAssembler\n",
    "cols = train_df_enc.columns\n",
    "cols.remove('species')\n",
    "cols.remove('speciesEnc')\n",
    "cols.remove('id')\n",
    "va = VectorAssembler(inputCols=cols, outputCol=\"features\")\n",
    "train_df_vec = va.transform(train_df_enc).cache()\n",
    "test_df_vec = va.transform(test_df)\n",
    "train_df_vec.select('features', 'speciesEnc').show()"
   ]
  },
  {
   "cell_type": "markdown",
   "metadata": {},
   "source": [
    "Split into train and test sets and fit the model."
   ]
  },
  {
   "cell_type": "code",
   "execution_count": 8,
   "metadata": {
    "collapsed": true
   },
   "outputs": [],
   "source": [
    "train_set, test_set = train_df_vec.select('features', 'speciesEnc').randomSplit([.8, .2])"
   ]
  },
  {
   "cell_type": "markdown",
   "metadata": {},
   "source": [
    "## Fit the model."
   ]
  },
  {
   "cell_type": "code",
   "execution_count": 9,
   "metadata": {
    "collapsed": true
   },
   "outputs": [],
   "source": [
    "from pyspark.ml import Pipeline\n",
    "from pyspark.ml.tuning import CrossValidator, ParamGridBuilder\n",
    "from pyspark.ml.classification import RandomForestClassifier\n",
    "from pyspark.ml.evaluation import MulticlassClassificationEvaluator\n",
    "\n",
    "rf = RandomForestClassifier(labelCol=\"speciesEnc\", predictionCol=\"prediction\", probabilityCol=\"probability\", rawPredictionCol=\"rawPrediction\", featureSubsetStrategy=\"auto\", impurity=\"gini\", seed=None)\n",
    "\n",
    "paramGrid = ParamGridBuilder() \\\n",
    "    .addGrid(rf.maxDepth, [5,10]) \\\n",
    "    .addGrid(rf.numTrees,  [10, 25, 50]) \\\n",
    "    .build()\n",
    "    \n",
    "    \n",
    "evaluator = MulticlassClassificationEvaluator(labelCol=\"speciesEnc\", predictionCol=\"prediction\")\n",
    "    \n",
    "crossval = CrossValidator(estimator=rf,\n",
    "                          estimatorParamMaps=paramGrid,\n",
    "                          evaluator=evaluator,\n",
    "                          numFolds=3)"
   ]
  },
  {
   "cell_type": "code",
   "execution_count": 10,
   "metadata": {
    "collapsed": true
   },
   "outputs": [],
   "source": [
    "cvModel = crossval.fit(train_set)"
   ]
  },
  {
   "cell_type": "code",
   "execution_count": 11,
   "metadata": {
    "collapsed": false
   },
   "outputs": [
    {
     "data": {
      "text/plain": [
       "[0.27966368267467295,\n",
       " 0.5670334232123037,\n",
       " 0.4285534179110245,\n",
       " 0.7127659854318015,\n",
       " 0.46722145922516967,\n",
       " 0.7590163554178703]"
      ]
     },
     "execution_count": 11,
     "metadata": {},
     "output_type": "execute_result"
    }
   ],
   "source": [
    "cvModel.avgMetrics"
   ]
  },
  {
   "cell_type": "code",
   "execution_count": 18,
   "metadata": {
    "collapsed": false
   },
   "outputs": [],
   "source": [
    "cvModel.bestModel.save(\"spark_random_forest_model_1\")"
   ]
  },
  {
   "cell_type": "markdown",
   "metadata": {},
   "source": [
    "## Make predictions on the test set."
   ]
  },
  {
   "cell_type": "code",
   "execution_count": 22,
   "metadata": {
    "collapsed": false
   },
   "outputs": [
    {
     "name": "stdout",
     "output_type": "stream",
     "text": [
      "+--------------------+\n",
      "|             species|\n",
      "+--------------------+\n",
      "|      Quercus_Afares|\n",
      "|   Alnus_Sieboldiana|\n",
      "| Arundinaria_Simonii|\n",
      "|         Acer_Pictum|\n",
      "|Quercus_Semecarpi...|\n",
      "|Callicarpa_Bodinieri|\n",
      "|   Quercus_Alnifolia|\n",
      "|   Quercus_Shumardii|\n",
      "|     Acer_Circinatum|\n",
      "|     Fagus_Sylvatica|\n",
      "|     Tilia_Tomentosa|\n",
      "|   Cotinus_Coggygria|\n",
      "|     Acer_Capillipes|\n",
      "|Viburnum_x_Rhytid...|\n",
      "|   Quercus_Coccifera|\n",
      "|     Quercus_Pontica|\n",
      "|Populus_Grandiden...|\n",
      "|  Cornus_Controversa|\n",
      "|    Acer_Saccharinum|\n",
      "|   Prunus_X_Shmittii|\n",
      "+--------------------+\n",
      "only showing top 20 rows\n",
      "\n"
     ]
    }
   ],
   "source": [
    "train_df_vec.select('species').distinct().show()"
   ]
  },
  {
   "cell_type": "code",
   "execution_count": 12,
   "metadata": {
    "collapsed": false
   },
   "outputs": [],
   "source": [
    "prediction_df = cvModel.bestModel.transform(test_df_vec).cache()"
   ]
  },
  {
   "cell_type": "code",
   "execution_count": 30,
   "metadata": {
    "collapsed": false
   },
   "outputs": [],
   "source": [
    "species_labels = stIndModel.labels\n",
    "#species_list = [row.species for row in species.collect()]\n",
    "#species_list.insert(0, 'id')\n",
    "species_labels.insert(0,'id')"
   ]
  },
  {
   "cell_type": "code",
   "execution_count": 14,
   "metadata": {
    "collapsed": false
   },
   "outputs": [],
   "source": [
    "from decimal import *\n",
    "pred_rdd = prediction_df.select('id', 'probability').rdd.map(lambda x: [x[0]] + [Decimal(a) for a in x[1]])"
   ]
  },
  {
   "cell_type": "code",
   "execution_count": 31,
   "metadata": {
    "collapsed": false
   },
   "outputs": [],
   "source": [
    "sol_fields = [StructField(field_name, DecimalType(38, 38), True) for field_name in species_labels]\n",
    "sol_fields[0].dataType = FloatType()\n",
    "sol_schema=StructType(sol_fields)    \n",
    "pred_df = spark.createDataFrame(pred_rdd, sol_schema).cache()"
   ]
  },
  {
   "cell_type": "code",
   "execution_count": 2,
   "metadata": {
    "collapsed": false
   },
   "outputs": [
    {
     "ename": "NameError",
     "evalue": "name 'pred_df' is not defined",
     "output_type": "error",
     "traceback": [
      "\u001b[0;31m---------------------------------------------------------------------------\u001b[0m",
      "\u001b[0;31mNameError\u001b[0m                                 Traceback (most recent call last)",
      "\u001b[0;32m<ipython-input-2-45764cf0f8c1>\u001b[0m in \u001b[0;36m<module>\u001b[0;34m()\u001b[0m\n\u001b[1;32m      1\u001b[0m \u001b[0;32mimport\u001b[0m \u001b[0mpandas\u001b[0m \u001b[0;32mas\u001b[0m \u001b[0mpd\u001b[0m\u001b[0;34m\u001b[0m\u001b[0m\n\u001b[0;32m----> 2\u001b[0;31m \u001b[0mpd_dataframe\u001b[0m \u001b[0;34m=\u001b[0m \u001b[0mpred_df\u001b[0m\u001b[0;34m.\u001b[0m\u001b[0mtoPandas\u001b[0m\u001b[0;34m(\u001b[0m\u001b[0;34m)\u001b[0m\u001b[0;34m\u001b[0m\u001b[0m\n\u001b[0m",
      "\u001b[0;31mNameError\u001b[0m: name 'pred_df' is not defined"
     ]
    }
   ],
   "source": [
    "import pandas as pd\n",
    "pd_dataframe = pred_df.toPandas()"
   ]
  }
 ],
 "metadata": {
  "kernelspec": {
   "display_name": "Python 3",
   "language": "python",
   "name": "python3"
  },
  "language_info": {
   "codemirror_mode": {
    "name": "ipython",
    "version": 3
   },
   "file_extension": ".py",
   "mimetype": "text/x-python",
   "name": "python",
   "nbconvert_exporter": "python",
   "pygments_lexer": "ipython3",
   "version": "3.5.1"
  }
 },
 "nbformat": 4,
 "nbformat_minor": 0
}
