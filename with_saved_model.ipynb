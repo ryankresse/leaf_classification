{
 "cells": [
  {
   "cell_type": "markdown",
   "metadata": {},
   "source": [
    "## Set up the dataframe."
   ]
  },
  {
   "cell_type": "markdown",
   "metadata": {},
   "source": [
    "Read the data into a Rdd."
   ]
  },
  {
   "cell_type": "code",
   "execution_count": null,
   "metadata": {
    "collapsed": false
   },
   "outputs": [],
   "source": [
    "import findspark\n",
    "findspark.init('/usr/local/bin/spark-2.0.1')\n",
    "\n",
    "import pyspark\n",
    "from pyspark.sql import SparkSession\n",
    "spark = SparkSession.builder \\\n",
    "    .master(\"local\") \\\n",
    "    .appName(\"Word Count\") \\\n",
    "    .getOrCreate()"
   ]
  },
  {
   "cell_type": "code",
   "execution_count": 2,
   "metadata": {
    "collapsed": false
   },
   "outputs": [],
   "source": [
    "sc = spark.sparkContext\n",
    "trainRdd = sc.textFile('input/tr.csv').cache()\n",
    "testRdd = sc.textFile('input/test.csv').cache()"
   ]
  },
  {
   "cell_type": "code",
   "execution_count": 3,
   "metadata": {
    "collapsed": true
   },
   "outputs": [],
   "source": [
    "from pyspark.sql.types import *\n",
    "\n",
    "def makeDF(rdd, data_set='train'):\n",
    "    #Save the row in the rdd that contains the column names, then delete it from the rdd.\n",
    "    header = rdd.first()\n",
    "    header_rdd = rdd.filter(lambda l: 'margin' in l)\n",
    "    rdd_no_header = rdd.subtract(header_rdd)\n",
    "\n",
    "    #Prepare the schema and rdd to build the dataframe. \n",
    "    #Species will be a string while all columns will be floats.\n",
    "    #Note if data_set == 'test', the won't have a species column\n",
    "    fields = [StructField(field_name, FloatType(), True) for field_name in header.split(\",\")]   \n",
    "    if data_set == 'train':\n",
    "        fields[1].dataType = StringType()\n",
    "        rdd_split = rdd_no_header.map(lambda l: l.split(\",\")).map(lambda l: [float(x) if i != 1 else str(x) for i,x in enumerate(l)])\n",
    "    else:\n",
    "        rdd_split = rdd_no_header.map(lambda l: l.split(\",\")).map(lambda l: [float(x) for i,x in enumerate(l)])\n",
    "\n",
    "    schema=StructType(fields)\n",
    "    \n",
    "    return spark.createDataFrame(rdd_split, schema).cache()\n",
    "    "
   ]
  },
  {
   "cell_type": "code",
   "execution_count": 4,
   "metadata": {
    "collapsed": false
   },
   "outputs": [],
   "source": [
    "train_df = makeDF(trainRdd)\n",
    "test_df = makeDF(testRdd, data_set='test')"
   ]
  },
  {
   "cell_type": "code",
   "execution_count": 5,
   "metadata": {
    "collapsed": false
   },
   "outputs": [
    {
     "name": "stdout",
     "output_type": "stream",
     "text": [
      "+--------------------+\n",
      "|             species|\n",
      "+--------------------+\n",
      "|Magnolia_Salicifolia|\n",
      "|Betula_Austrosine...|\n",
      "|  Tilia_Platyphyllos|\n",
      "|     Ilex_Aquifolium|\n",
      "|         Acer_Pictum|\n",
      "|  Quercus_Imbricaria|\n",
      "|   Quercus_Agrifolia|\n",
      "|    Acer_Saccharinum|\n",
      "|Quercus_Semecarpi...|\n",
      "|    Cornus_Chinensis|\n",
      "|     Acer_Capillipes|\n",
      "|     Quercus_Pontica|\n",
      "|      Viburnum_Tinus|\n",
      "|         Sorbus_Aria|\n",
      "|Liriodendron_Tuli...|\n",
      "|Quercus_Infectori...|\n",
      "|      Quercus_Texana|\n",
      "|Quercus_Phillyrae...|\n",
      "|   Quercus_Agrifolia|\n",
      "|   Cotinus_Coggygria|\n",
      "+--------------------+\n",
      "only showing top 20 rows\n",
      "\n"
     ]
    }
   ],
   "source": [
    "train_df.select('species').show()"
   ]
  },
  {
   "cell_type": "markdown",
   "metadata": {},
   "source": [
    "## Prepare the data for training."
   ]
  },
  {
   "cell_type": "markdown",
   "metadata": {},
   "source": [
    "Label encode the target column in the training set."
   ]
  },
  {
   "cell_type": "code",
   "execution_count": 6,
   "metadata": {
    "collapsed": false
   },
   "outputs": [
    {
     "name": "stdout",
     "output_type": "stream",
     "text": [
      "+--------------------+----------+\n",
      "|             species|speciesEnc|\n",
      "+--------------------+----------+\n",
      "|Magnolia_Salicifolia|      38.0|\n",
      "|Betula_Austrosine...|       1.0|\n",
      "|  Tilia_Platyphyllos|      87.0|\n",
      "|     Ilex_Aquifolium|      22.0|\n",
      "|         Acer_Pictum|      82.0|\n",
      "|  Quercus_Imbricaria|      31.0|\n",
      "|   Quercus_Agrifolia|      32.0|\n",
      "|    Acer_Saccharinum|      79.0|\n",
      "|Quercus_Semecarpi...|      28.0|\n",
      "|    Cornus_Chinensis|      74.0|\n",
      "|     Acer_Capillipes|      43.0|\n",
      "|     Quercus_Pontica|      50.0|\n",
      "|      Viburnum_Tinus|       8.0|\n",
      "|         Sorbus_Aria|       0.0|\n",
      "|Liriodendron_Tuli...|      73.0|\n",
      "|Quercus_Infectori...|      23.0|\n",
      "|      Quercus_Texana|      75.0|\n",
      "|Quercus_Phillyrae...|      44.0|\n",
      "|   Quercus_Agrifolia|      32.0|\n",
      "|   Cotinus_Coggygria|      64.0|\n",
      "+--------------------+----------+\n",
      "only showing top 20 rows\n",
      "\n"
     ]
    }
   ],
   "source": [
    "from pyspark.ml.feature import IndexToString, StringIndexer\n",
    "stInd = StringIndexer(inputCol='species', outputCol='speciesEnc')\n",
    "stIndModel = stInd.fit(train_df)\n",
    "train_df_enc = stIndModel.transform(train_df).cache()\n",
    "train_df_enc.select('species', 'speciesEnc').show()"
   ]
  },
  {
   "cell_type": "markdown",
   "metadata": {},
   "source": [
    "Create the features column that will be used to train the model."
   ]
  },
  {
   "cell_type": "code",
   "execution_count": 7,
   "metadata": {
    "collapsed": false
   },
   "outputs": [],
   "source": [
    "from pyspark.ml.feature import VectorAssembler\n",
    "cols = train_df_enc.columns\n",
    "cols.remove('species')\n",
    "cols.remove('speciesEnc')\n",
    "cols.remove('id')\n",
    "va = VectorAssembler(inputCols=cols, outputCol=\"features\")\n",
    "test_df_vec = va.transform(test_df)\n",
    "train_df_vec = va.transform(train_df_enc)\n",
    "\n"
   ]
  },
  {
   "cell_type": "code",
   "execution_count": 10,
   "metadata": {
    "collapsed": false
   },
   "outputs": [],
   "source": [
    "train_preds = model.transform(train_df_vec).cache()"
   ]
  },
  {
   "cell_type": "code",
   "execution_count": 11,
   "metadata": {
    "collapsed": false
   },
   "outputs": [],
   "source": [
    "train_preds = train_preds.select('species', 'speciesEnc', 'probability', 'prediction', 'id').cache()"
   ]
  },
  {
   "cell_type": "code",
   "execution_count": 12,
   "metadata": {
    "collapsed": false
   },
   "outputs": [
    {
     "name": "stdout",
     "output_type": "stream",
     "text": [
      "+--------------------+----------+--------------------+----------+------+\n",
      "|             species|speciesEnc|         probability|prediction|    id|\n",
      "+--------------------+----------+--------------------+----------+------+\n",
      "|         Sorbus_Aria|       0.0|[0.32025702250384...|       0.0|1269.0|\n",
      "|         Sorbus_Aria|       0.0|[0.27247980908622...|       0.0|1395.0|\n",
      "|         Sorbus_Aria|       0.0|[0.26762364696292...|       0.0| 676.0|\n",
      "|         Sorbus_Aria|       0.0|[0.26059767814940...|       0.0| 798.0|\n",
      "|         Sorbus_Aria|       0.0|[0.27195400272790...|       0.0|1176.0|\n",
      "|         Sorbus_Aria|       0.0|[0.24442803333658...|       0.0| 867.0|\n",
      "|         Sorbus_Aria|       0.0|[0.32194640168715...|       0.0| 714.0|\n",
      "|         Sorbus_Aria|       0.0|[0.28066739565063...|       0.0| 741.0|\n",
      "|         Sorbus_Aria|       0.0|[0.31794566724273...|       0.0|1200.0|\n",
      "|         Sorbus_Aria|       0.0|[0.35770505345511...|       0.0|1160.0|\n",
      "|Betula_Austrosine...|       1.0|[2.89855072463768...|       1.0| 286.0|\n",
      "|Betula_Austrosine...|       1.0|[4.14078674948240...|       1.0| 443.0|\n",
      "|Betula_Austrosine...|       1.0|[4.14078674948240...|       1.0|1097.0|\n",
      "|Betula_Austrosine...|       1.0|[4.1407867494824E...|       1.0|  18.0|\n",
      "|Betula_Austrosine...|       1.0|[4.14078674948240...|       1.0| 488.0|\n",
      "|Betula_Austrosine...|       1.0|[4.14078674948240...|       1.0| 747.0|\n",
      "|Betula_Austrosine...|       1.0|[4.14078674948240...|       1.0| 758.0|\n",
      "|Betula_Austrosine...|       1.0|[4.14078674948240...|       1.0| 175.0|\n",
      "|Betula_Austrosine...|       1.0|[2.89855072463768...|       1.0| 672.0|\n",
      "|Betula_Austrosine...|       1.0|[4.14078674948239...|       1.0| 341.0|\n",
      "+--------------------+----------+--------------------+----------+------+\n",
      "only showing top 20 rows\n",
      "\n"
     ]
    }
   ],
   "source": [
    "ordered = train_preds.orderBy('speciesEnc')\n",
    "ordered.show()"
   ]
  },
  {
   "cell_type": "code",
   "execution_count": 13,
   "metadata": {
    "collapsed": false
   },
   "outputs": [
    {
     "name": "stdout",
     "output_type": "stream",
     "text": [
      "+--------------------+----------+--------------------+----------+------+--------------------+\n",
      "|             species|speciesEnc|         probability|prediction|    id|    predictedSpecies|\n",
      "+--------------------+----------+--------------------+----------+------+--------------------+\n",
      "|Magnolia_Salicifolia|      38.0|[0.00225803640496...|      38.0| 256.0|Magnolia_Salicifolia|\n",
      "|Betula_Austrosine...|       1.0|[4.14078674948240...|       1.0| 488.0|Betula_Austrosine...|\n",
      "|  Tilia_Platyphyllos|      87.0|[0.04214145977591...|      87.0| 239.0|  Tilia_Platyphyllos|\n",
      "|     Ilex_Aquifolium|      22.0|[0.00884596880601...|      22.0| 600.0|     Ilex_Aquifolium|\n",
      "|         Acer_Pictum|      82.0|[5.16099416355170...|      82.0|1417.0|         Acer_Pictum|\n",
      "|  Quercus_Imbricaria|      31.0|[0.00168786949319...|      31.0| 497.0|  Quercus_Imbricaria|\n",
      "|   Quercus_Agrifolia|      32.0|[0.0,0.0043520438...|      32.0| 387.0|   Quercus_Agrifolia|\n",
      "|    Acer_Saccharinum|      79.0|[0.00309976178616...|      79.0| 506.0|    Acer_Saccharinum|\n",
      "|Quercus_Semecarpi...|      28.0|[0.00770414640210...|      28.0|1222.0|Quercus_Semecarpi...|\n",
      "|    Cornus_Chinensis|      74.0|[0.01363172325411...|      74.0| 800.0|    Cornus_Chinensis|\n",
      "|     Acer_Capillipes|      43.0|[0.01729439895715...|      43.0| 569.0|     Acer_Capillipes|\n",
      "|     Quercus_Pontica|      50.0|[0.0,0.0053044247...|      50.0| 247.0|     Quercus_Pontica|\n",
      "|      Viburnum_Tinus|       8.0|[0.00828895678092...|       8.0|1240.0|      Viburnum_Tinus|\n",
      "|         Sorbus_Aria|       0.0|[0.32194640168715...|       0.0| 714.0|         Sorbus_Aria|\n",
      "|Liriodendron_Tuli...|      73.0|[0.00147191173596...|      73.0| 122.0|Liriodendron_Tuli...|\n",
      "|Quercus_Infectori...|      23.0|[0.01913935400967...|      23.0|1339.0|Quercus_Infectori...|\n",
      "|      Quercus_Texana|      75.0|[2.59740259740259...|      75.0|1341.0|      Quercus_Texana|\n",
      "|Quercus_Phillyrae...|      44.0|[0.00352199539661...|      44.0|  40.0|Quercus_Phillyrae...|\n",
      "|   Quercus_Agrifolia|      32.0|[0.0,0.0038094373...|      32.0|1457.0|   Quercus_Agrifolia|\n",
      "|   Cotinus_Coggygria|      64.0|[0.00669450273758...|      64.0| 224.0|   Cotinus_Coggygria|\n",
      "+--------------------+----------+--------------------+----------+------+--------------------+\n",
      "only showing top 20 rows\n",
      "\n"
     ]
    }
   ],
   "source": [
    "from pyspark.ml.feature import IndexToString\n",
    "converter = IndexToString(inputCol=\"prediction\", outputCol=\"predictedSpecies\", labels=stIndModel.labels)\n",
    "train_preds = converter.transform(train_preds)\n",
    "train_preds.show()"
   ]
  },
  {
   "cell_type": "code",
   "execution_count": 21,
   "metadata": {
    "collapsed": false
   },
   "outputs": [],
   "source": [
    "from decimal import *\n",
    "train_pred_rdd = train_preds.select('id', 'probability').rdd.map(lambda x: [int(x[0])] + [Decimal(a) for a in x[1]])\n",
    "train_pred_df = spark.createDataFrame(train_pred_rdd, sol_schema).cache()"
   ]
  },
  {
   "cell_type": "code",
   "execution_count": 15,
   "metadata": {
    "collapsed": false
   },
   "outputs": [
    {
     "ename": "NameError",
     "evalue": "name 'train_pred_df' is not defined",
     "output_type": "error",
     "traceback": [
      "\u001b[0;31m---------------------------------------------------------------------------\u001b[0m",
      "\u001b[0;31mNameError\u001b[0m                                 Traceback (most recent call last)",
      "\u001b[0;32m<ipython-input-15-42080e8de4de>\u001b[0m in \u001b[0;36m<module>\u001b[0;34m()\u001b[0m\n\u001b[0;32m----> 1\u001b[0;31m \u001b[0mtrain_pred_df\u001b[0m \u001b[0;34m=\u001b[0m \u001b[0mtrain_pred_df\u001b[0m\u001b[0;34m.\u001b[0m\u001b[0mtoPandas\u001b[0m\u001b[0;34m(\u001b[0m\u001b[0;34m)\u001b[0m\u001b[0;34m\u001b[0m\u001b[0m\n\u001b[0m",
      "\u001b[0;31mNameError\u001b[0m: name 'train_pred_df' is not defined"
     ]
    }
   ],
   "source": [
    "train_pred_df = train_pred_df.toPandas()"
   ]
  },
  {
   "cell_type": "code",
   "execution_count": null,
   "metadata": {
    "collapsed": false
   },
   "outputs": [],
   "source": [
    "train_pred_df[train_pred_df.id == 488.0]"
   ]
  },
  {
   "cell_type": "code",
   "execution_count": 22,
   "metadata": {
    "collapsed": false
   },
   "outputs": [],
   "source": [
    "from pyspark.mllib.regression import IsotonicRegression, IsotonicRegressionModel\n",
    "from pyspark.sql import SQLContext\n",
    "tuple_schema = StructType([\n",
    "    StructField(\"label\", IntegerType(), True),\n",
    "    StructField(\"prob\", DecimalType(), True)])\n",
    "\n",
    "def createTuple(x):\n",
    "    l = 1 if int(x[0]) == int(x[1]) else 0\n",
    "    return (int(l), x[2], 1)\n",
    "create_tup_udf = spark.udf.register('createTuple', createTuple, tuple_schema)\n",
    "\n",
    "r = train_preds.select('speciesEnc', 'probability').rdd.flatMap(lambda x: [ (x[0], i,v) for i,v in enumerate(x[1])])\n",
    "r = r.map(createTuple)"
   ]
  },
  {
   "cell_type": "code",
   "execution_count": 23,
   "metadata": {
    "collapsed": false
   },
   "outputs": [
    {
     "data": {
      "text/plain": [
       "[(0, 0.0022580364049624262, 1),\n",
       " (0, 0.00031055900621118014, 1),\n",
       " (0, 0.0010979210106167206, 1),\n",
       " (0, 0.025422172265558873, 1),\n",
       " (0, 0.00056618768666760679, 1),\n",
       " (0, 0.017757206421942853, 1),\n",
       " (0, 0.00028824149630102264, 1),\n",
       " (0, 0.0026821921449109187, 1),\n",
       " (0, 0.020860990651688057, 1),\n",
       " (0, 0.13887524335730353, 1),\n",
       " (0, 0.00033628872221720657, 1),\n",
       " (0, 0.0, 1),\n",
       " (0, 0.001091582681752436, 1),\n",
       " (0, 0.00072082645893713616, 1),\n",
       " (0, 0.0069026535994297887, 1),\n",
       " (0, 0.00039621601527950467, 1),\n",
       " (0, 0.065386414249853017, 1),\n",
       " (0, 0.01674034295690878, 1),\n",
       " (0, 0.0018911318150448585, 1),\n",
       " (0, 0.021462056489179072, 1),\n",
       " (0, 0.0047086607713002172, 1),\n",
       " (0, 0.00024844720496894411, 1),\n",
       " (0, 0.0008091803141903486, 1),\n",
       " (0, 0.0023828237068874501, 1),\n",
       " (0, 0.00030521907759759422, 1),\n",
       " (0, 0.0075682644293074653, 1),\n",
       " (0, 0.0096708196982019309, 1),\n",
       " (0, 0.001013107148171594, 1),\n",
       " (0, 0.00092806398806123485, 1),\n",
       " (0, 0.011955368002624821, 1),\n",
       " (0, 0.005523176094991763, 1),\n",
       " (0, 0.0059294681436197613, 1),\n",
       " (0, 0.0, 1),\n",
       " (0, 0.00075686461875720183, 1),\n",
       " (0, 0.0037464392668996251, 1),\n",
       " (0, 0.0, 1),\n",
       " (0, 0.0008823159191576049, 1),\n",
       " (0, 0.00012422360248447205, 1),\n",
       " (1, 0.36542191063680085, 1),\n",
       " (0, 0.014839280957334579, 1)]"
      ]
     },
     "execution_count": 23,
     "metadata": {},
     "output_type": "execute_result"
    }
   ],
   "source": [
    "r.take(40)"
   ]
  },
  {
   "cell_type": "code",
   "execution_count": null,
   "metadata": {
    "collapsed": true
   },
   "outputs": [],
   "source": [
    "from pyspark.mllib.regression import IsotonicRegression, IsotonicRegressionModel\n",
    "model = IsotonicRegression.train(r)\n",
    "\n",
    "\n"
   ]
  },
  {
   "cell_type": "code",
   "execution_count": null,
   "metadata": {
    "collapsed": true
   },
   "outputs": [],
   "source": []
  },
  {
   "cell_type": "markdown",
   "metadata": {},
   "source": [
    "## Make predictions on the test set."
   ]
  },
  {
   "cell_type": "code",
   "execution_count": 16,
   "metadata": {
    "collapsed": true
   },
   "outputs": [],
   "source": [
    "from pyspark.ml.classification import RandomForestClassificationModel\n",
    "model = RandomForestClassificationModel.load('spark_random_forest_model_1')"
   ]
  },
  {
   "cell_type": "code",
   "execution_count": 17,
   "metadata": {
    "collapsed": false
   },
   "outputs": [],
   "source": [
    "prediction_df = model.transform(test_df_vec).cache()"
   ]
  },
  {
   "cell_type": "code",
   "execution_count": 18,
   "metadata": {
    "collapsed": false
   },
   "outputs": [],
   "source": [
    "species_list = stIndModel.labels\n",
    "species_list.insert(0, 'id')"
   ]
  },
  {
   "cell_type": "code",
   "execution_count": 19,
   "metadata": {
    "collapsed": false
   },
   "outputs": [],
   "source": [
    "from decimal import *\n",
    "pred_rdd = prediction_df.select('id', 'probability').rdd.map(lambda x: [int(x[0])] + [Decimal(a) for a in x[1]])"
   ]
  },
  {
   "cell_type": "code",
   "execution_count": 20,
   "metadata": {
    "collapsed": false
   },
   "outputs": [],
   "source": [
    "sol_fields = [StructField(field_name, DecimalType(38, 38), True) for field_name in species_list]\n",
    "sol_fields[0].dataType = IntegerType()\n",
    "sol_schema=StructType(sol_fields)    \n",
    "pred_df = spark.createDataFrame(pred_rdd, sol_schema).cache()"
   ]
  },
  {
   "cell_type": "code",
   "execution_count": 60,
   "metadata": {
    "collapsed": false
   },
   "outputs": [],
   "source": [
    "import pandas as pd\n",
    "pd_dataframe = pred_df.toPandas()\n",
    "sorted_by_cols = pd_dataframe.sort_index(axis=1)\n",
    "cols = list(sorted_by_cols.columns.values)\n",
    "cols.remove('id')\n",
    "cols.insert(0, 'id')\n",
    "submission_df = sorted_by_cols[cols]\n"
   ]
  },
  {
   "cell_type": "code",
   "execution_count": 63,
   "metadata": {
    "collapsed": false
   },
   "outputs": [
    {
     "data": {
      "text/html": [
       "<div>\n",
       "<table border=\"1\" class=\"dataframe\">\n",
       "  <thead>\n",
       "    <tr style=\"text-align: right;\">\n",
       "      <th></th>\n",
       "      <th>id</th>\n",
       "      <th>Acer_Capillipes</th>\n",
       "      <th>Acer_Circinatum</th>\n",
       "      <th>Acer_Mono</th>\n",
       "      <th>Acer_Opalus</th>\n",
       "      <th>Acer_Palmatum</th>\n",
       "      <th>Acer_Pictum</th>\n",
       "      <th>Acer_Platanoids</th>\n",
       "      <th>Acer_Rubrum</th>\n",
       "      <th>Acer_Rufinerve</th>\n",
       "      <th>...</th>\n",
       "      <th>Salix_Fragilis</th>\n",
       "      <th>Salix_Intergra</th>\n",
       "      <th>Sorbus_Aria</th>\n",
       "      <th>Tilia_Oliveri</th>\n",
       "      <th>Tilia_Platyphyllos</th>\n",
       "      <th>Tilia_Tomentosa</th>\n",
       "      <th>Ulmus_Bergmanniana</th>\n",
       "      <th>Viburnum_Tinus</th>\n",
       "      <th>Viburnum_x_Rhytidophylloides</th>\n",
       "      <th>Zelkova_Serrata</th>\n",
       "    </tr>\n",
       "  </thead>\n",
       "  <tbody>\n",
       "    <tr>\n",
       "      <th>0</th>\n",
       "      <td>653</td>\n",
       "      <td>0.00094975172954717319590695057129892120</td>\n",
       "      <td>0.00012422360248447202719056237096850737</td>\n",
       "      <td>0.07354850125158279849912901227071415633</td>\n",
       "      <td>0.00366638601469200129875924965006106504</td>\n",
       "      <td>0E-38</td>\n",
       "      <td>0.00037251752681271963927797652438300702</td>\n",
       "      <td>0.00097081744910714514850552658842275378</td>\n",
       "      <td>0.00066465386883593784075191512883407086</td>\n",
       "      <td>0.00061492603081280739797664924850550960</td>\n",
       "      <td>...</td>\n",
       "      <td>0.02291310955464516407875663617232930847</td>\n",
       "      <td>0.00697124709934343091133346348442501039</td>\n",
       "      <td>0.00247000459012986861920269099357483356</td>\n",
       "      <td>0.00048656937856813832704930278261201693</td>\n",
       "      <td>0.00095015220030616011955698629876110317</td>\n",
       "      <td>0.00249220046718247713671279264247004903</td>\n",
       "      <td>0.00693460848809994423458391565873171203</td>\n",
       "      <td>0.01453479382853483520277038110180001240</td>\n",
       "      <td>0.00024316109422492396350407029004259130</td>\n",
       "      <td>0.00115329736531491716493291743717009012</td>\n",
       "    </tr>\n",
       "    <tr>\n",
       "      <th>1</th>\n",
       "      <td>1415</td>\n",
       "      <td>0.00276269219660280757056014522277109791</td>\n",
       "      <td>0.01641436807307629017205208299401419936</td>\n",
       "      <td>0.00121792059825917217685820048700406915</td>\n",
       "      <td>0.00536641267905056847109523943117892486</td>\n",
       "      <td>0.04464243943191310848295216828773845918</td>\n",
       "      <td>0.02825257815572187330976916541658283677</td>\n",
       "      <td>0.00191195688883015382092400713531787915</td>\n",
       "      <td>0.00123390174163540730471744222285224168</td>\n",
       "      <td>0.00519630738059833913872198607464270026</td>\n",
       "      <td>...</td>\n",
       "      <td>0.00090634194181104924849246007312331130</td>\n",
       "      <td>0.00471859819431322442817577922369309817</td>\n",
       "      <td>0.00193636051071293898741265682161838413</td>\n",
       "      <td>0.00356028012636329166049065086951941339</td>\n",
       "      <td>0.02182112789083639342591069976151629817</td>\n",
       "      <td>0.01188502964771783083908207601098183659</td>\n",
       "      <td>0.00172890981911444428613389145965584248</td>\n",
       "      <td>0.00241721708957016653829263930219894974</td>\n",
       "      <td>0.01575325144334485324981720566484000301</td>\n",
       "      <td>0.00424611300816044468647847409670248453</td>\n",
       "    </tr>\n",
       "    <tr>\n",
       "      <th>2</th>\n",
       "      <td>736</td>\n",
       "      <td>0.01221072511701751760193612739158197655</td>\n",
       "      <td>0.00603660660385448716303002925087639596</td>\n",
       "      <td>0.00172254341746276226632339501065871445</td>\n",
       "      <td>0.01479746426440261761192651590590685373</td>\n",
       "      <td>0.00472380052916299229132102155404027144</td>\n",
       "      <td>0.00115291343588312493462222363405089709</td>\n",
       "      <td>0.00161305214770173671080810695599438986</td>\n",
       "      <td>0.02513783689315314193168937606515100924</td>\n",
       "      <td>0.01960791658603302026198100804776913719</td>\n",
       "      <td>...</td>\n",
       "      <td>0.00090634194181104946533289457022419811</td>\n",
       "      <td>0.00514492367678587823875968609854680835</td>\n",
       "      <td>0.02699456816419191357292461930228455458</td>\n",
       "      <td>0.14091767748659017600587617380369920284</td>\n",
       "      <td>0.07391989127447813612281635187173378654</td>\n",
       "      <td>0.00804375661754638295042330042861067341</td>\n",
       "      <td>0.00499863280183367175713016195004456677</td>\n",
       "      <td>0.00385637072856403291185034554189314804</td>\n",
       "      <td>0E-38</td>\n",
       "      <td>0.01677942035628451553086470937614649301</td>\n",
       "    </tr>\n",
       "    <tr>\n",
       "      <th>3</th>\n",
       "      <td>1193</td>\n",
       "      <td>0.00951870171486804417249061316397273913</td>\n",
       "      <td>0.00176359558693875580724641505270255948</td>\n",
       "      <td>0.00186240355732290256002281481073623581</td>\n",
       "      <td>0.01751085136808004649733305768677382730</td>\n",
       "      <td>0.00030024349129050394375042842831646794</td>\n",
       "      <td>0.00213971660136967655255202380715218169</td>\n",
       "      <td>0.00310826236384218563754688879896548315</td>\n",
       "      <td>0.02036407217720742623967566942155826837</td>\n",
       "      <td>0.00764011533717242827257187798295490211</td>\n",
       "      <td>...</td>\n",
       "      <td>0.00137145822088081720431518295555406439</td>\n",
       "      <td>0.00733119522666879873395995304008465610</td>\n",
       "      <td>0.01761788813618097096491688091646210523</td>\n",
       "      <td>0.01938217519397773466738321701541281072</td>\n",
       "      <td>0.00724579428528890519267680048187685315</td>\n",
       "      <td>0.00852497771750523707090518854556648876</td>\n",
       "      <td>0.00481265239970905724792293867153603060</td>\n",
       "      <td>0.00517475646363766382529458809358402505</td>\n",
       "      <td>0E-38</td>\n",
       "      <td>0.01939630455298257255547511590521025937</td>\n",
       "    </tr>\n",
       "    <tr>\n",
       "      <th>4</th>\n",
       "      <td>1139</td>\n",
       "      <td>0.00449716559912244871755060415807747631</td>\n",
       "      <td>0.00139200062110370384980961855347914025</td>\n",
       "      <td>0.01150618607814925080379264699104169267</td>\n",
       "      <td>0.01322702124338554982574400753492227523</td>\n",
       "      <td>0.00030024349129050388954031980404124624</td>\n",
       "      <td>0.00228791946233849454936382095127100911</td>\n",
       "      <td>0.00259854967755216749447644275505808764</td>\n",
       "      <td>0.00250503598245698693228189490866952838</td>\n",
       "      <td>0.00370290086928260972487514379736239789</td>\n",
       "      <td>...</td>\n",
       "      <td>0.00252789487102696034184767803765225835</td>\n",
       "      <td>0.01517654653499122228976769832797799609</td>\n",
       "      <td>0.00392266311739860110141542293149541365</td>\n",
       "      <td>0.00572083381042039033903545686143843341</td>\n",
       "      <td>0.00527934344295909532829291777034086408</td>\n",
       "      <td>0.00930108280972844446432556964055038407</td>\n",
       "      <td>0.00617257781369083286665544463289734267</td>\n",
       "      <td>0.09873084830178988080540136706986231729</td>\n",
       "      <td>0.00197393032499415489386396238558063487</td>\n",
       "      <td>0.00584930028600761861556911469506303547</td>\n",
       "    </tr>\n",
       "  </tbody>\n",
       "</table>\n",
       "<p>5 rows × 100 columns</p>\n",
       "</div>"
      ],
      "text/plain": [
       "     id                           Acer_Capillipes  \\\n",
       "0   653  0.00094975172954717319590695057129892120   \n",
       "1  1415  0.00276269219660280757056014522277109791   \n",
       "2   736  0.01221072511701751760193612739158197655   \n",
       "3  1193  0.00951870171486804417249061316397273913   \n",
       "4  1139  0.00449716559912244871755060415807747631   \n",
       "\n",
       "                            Acer_Circinatum  \\\n",
       "0  0.00012422360248447202719056237096850737   \n",
       "1  0.01641436807307629017205208299401419936   \n",
       "2  0.00603660660385448716303002925087639596   \n",
       "3  0.00176359558693875580724641505270255948   \n",
       "4  0.00139200062110370384980961855347914025   \n",
       "\n",
       "                                  Acer_Mono  \\\n",
       "0  0.07354850125158279849912901227071415633   \n",
       "1  0.00121792059825917217685820048700406915   \n",
       "2  0.00172254341746276226632339501065871445   \n",
       "3  0.00186240355732290256002281481073623581   \n",
       "4  0.01150618607814925080379264699104169267   \n",
       "\n",
       "                                Acer_Opalus  \\\n",
       "0  0.00366638601469200129875924965006106504   \n",
       "1  0.00536641267905056847109523943117892486   \n",
       "2  0.01479746426440261761192651590590685373   \n",
       "3  0.01751085136808004649733305768677382730   \n",
       "4  0.01322702124338554982574400753492227523   \n",
       "\n",
       "                              Acer_Palmatum  \\\n",
       "0                                     0E-38   \n",
       "1  0.04464243943191310848295216828773845918   \n",
       "2  0.00472380052916299229132102155404027144   \n",
       "3  0.00030024349129050394375042842831646794   \n",
       "4  0.00030024349129050388954031980404124624   \n",
       "\n",
       "                                Acer_Pictum  \\\n",
       "0  0.00037251752681271963927797652438300702   \n",
       "1  0.02825257815572187330976916541658283677   \n",
       "2  0.00115291343588312493462222363405089709   \n",
       "3  0.00213971660136967655255202380715218169   \n",
       "4  0.00228791946233849454936382095127100911   \n",
       "\n",
       "                            Acer_Platanoids  \\\n",
       "0  0.00097081744910714514850552658842275378   \n",
       "1  0.00191195688883015382092400713531787915   \n",
       "2  0.00161305214770173671080810695599438986   \n",
       "3  0.00310826236384218563754688879896548315   \n",
       "4  0.00259854967755216749447644275505808764   \n",
       "\n",
       "                                Acer_Rubrum  \\\n",
       "0  0.00066465386883593784075191512883407086   \n",
       "1  0.00123390174163540730471744222285224168   \n",
       "2  0.02513783689315314193168937606515100924   \n",
       "3  0.02036407217720742623967566942155826837   \n",
       "4  0.00250503598245698693228189490866952838   \n",
       "\n",
       "                             Acer_Rufinerve  \\\n",
       "0  0.00061492603081280739797664924850550960   \n",
       "1  0.00519630738059833913872198607464270026   \n",
       "2  0.01960791658603302026198100804776913719   \n",
       "3  0.00764011533717242827257187798295490211   \n",
       "4  0.00370290086928260972487514379736239789   \n",
       "\n",
       "                     ...                     \\\n",
       "0                    ...                      \n",
       "1                    ...                      \n",
       "2                    ...                      \n",
       "3                    ...                      \n",
       "4                    ...                      \n",
       "\n",
       "                             Salix_Fragilis  \\\n",
       "0  0.02291310955464516407875663617232930847   \n",
       "1  0.00090634194181104924849246007312331130   \n",
       "2  0.00090634194181104946533289457022419811   \n",
       "3  0.00137145822088081720431518295555406439   \n",
       "4  0.00252789487102696034184767803765225835   \n",
       "\n",
       "                             Salix_Intergra  \\\n",
       "0  0.00697124709934343091133346348442501039   \n",
       "1  0.00471859819431322442817577922369309817   \n",
       "2  0.00514492367678587823875968609854680835   \n",
       "3  0.00733119522666879873395995304008465610   \n",
       "4  0.01517654653499122228976769832797799609   \n",
       "\n",
       "                                Sorbus_Aria  \\\n",
       "0  0.00247000459012986861920269099357483356   \n",
       "1  0.00193636051071293898741265682161838413   \n",
       "2  0.02699456816419191357292461930228455458   \n",
       "3  0.01761788813618097096491688091646210523   \n",
       "4  0.00392266311739860110141542293149541365   \n",
       "\n",
       "                              Tilia_Oliveri  \\\n",
       "0  0.00048656937856813832704930278261201693   \n",
       "1  0.00356028012636329166049065086951941339   \n",
       "2  0.14091767748659017600587617380369920284   \n",
       "3  0.01938217519397773466738321701541281072   \n",
       "4  0.00572083381042039033903545686143843341   \n",
       "\n",
       "                         Tilia_Platyphyllos  \\\n",
       "0  0.00095015220030616011955698629876110317   \n",
       "1  0.02182112789083639342591069976151629817   \n",
       "2  0.07391989127447813612281635187173378654   \n",
       "3  0.00724579428528890519267680048187685315   \n",
       "4  0.00527934344295909532829291777034086408   \n",
       "\n",
       "                            Tilia_Tomentosa  \\\n",
       "0  0.00249220046718247713671279264247004903   \n",
       "1  0.01188502964771783083908207601098183659   \n",
       "2  0.00804375661754638295042330042861067341   \n",
       "3  0.00852497771750523707090518854556648876   \n",
       "4  0.00930108280972844446432556964055038407   \n",
       "\n",
       "                         Ulmus_Bergmanniana  \\\n",
       "0  0.00693460848809994423458391565873171203   \n",
       "1  0.00172890981911444428613389145965584248   \n",
       "2  0.00499863280183367175713016195004456677   \n",
       "3  0.00481265239970905724792293867153603060   \n",
       "4  0.00617257781369083286665544463289734267   \n",
       "\n",
       "                             Viburnum_Tinus  \\\n",
       "0  0.01453479382853483520277038110180001240   \n",
       "1  0.00241721708957016653829263930219894974   \n",
       "2  0.00385637072856403291185034554189314804   \n",
       "3  0.00517475646363766382529458809358402505   \n",
       "4  0.09873084830178988080540136706986231729   \n",
       "\n",
       "               Viburnum_x_Rhytidophylloides  \\\n",
       "0  0.00024316109422492396350407029004259130   \n",
       "1  0.01575325144334485324981720566484000301   \n",
       "2                                     0E-38   \n",
       "3                                     0E-38   \n",
       "4  0.00197393032499415489386396238558063487   \n",
       "\n",
       "                            Zelkova_Serrata  \n",
       "0  0.00115329736531491716493291743717009012  \n",
       "1  0.00424611300816044468647847409670248453  \n",
       "2  0.01677942035628451553086470937614649301  \n",
       "3  0.01939630455298257255547511590521025937  \n",
       "4  0.00584930028600761861556911469506303547  \n",
       "\n",
       "[5 rows x 100 columns]"
      ]
     },
     "execution_count": 63,
     "metadata": {},
     "output_type": "execute_result"
    }
   ],
   "source": [
    "submission_df.head()"
   ]
  },
  {
   "cell_type": "markdown",
   "metadata": {},
   "source": [
    "Isotonic Regression\n",
    "-figure out log loss.\n",
    "-figure out isotonic regression.\n",
    "-use log loss to see if isotonic regression is working\n",
    "-Isotonic Regression takes tuples of values (label, feature, weight)\n",
    "-label is equal to 1 or 0, based on if is is the predicted label.\n",
    "-run isotonic regression. then split it up again.\n",
    "\n"
   ]
  },
  {
   "cell_type": "code",
   "execution_count": 64,
   "metadata": {
    "collapsed": false
   },
   "outputs": [],
   "source": [
    "submission_df.to_csv('spark_sol_2.csv', index=False)"
   ]
  }
 ],
 "metadata": {
  "kernelspec": {
   "display_name": "Python 3",
   "language": "python",
   "name": "python3"
  }
 },
 "nbformat": 4,
 "nbformat_minor": 0
}
