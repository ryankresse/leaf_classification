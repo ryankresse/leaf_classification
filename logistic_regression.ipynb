{
 "cells": [
  {
   "cell_type": "code",
   "execution_count": 57,
   "metadata": {
    "collapsed": true
   },
   "outputs": [],
   "source": [
    "%matplotlib inline\n",
    "from sklearn.cross_validation import train_test_split\n",
    "import pandas as pd\n",
    "import numpy as np\n",
    "import string\n",
    "import seaborn as sns\n",
    "from sklearn.pipeline import Pipeline\n",
    "from sklearn.grid_search import GridSearchCV"
   ]
  },
  {
   "cell_type": "code",
   "execution_count": 58,
   "metadata": {
    "collapsed": false
   },
   "outputs": [],
   "source": [
    "train = pd.read_csv('input/tr.csv')\n",
    "test = pd.read_csv('input/test.csv')\n",
    "all_data = pd.concat([train, test])"
   ]
  },
  {
   "cell_type": "code",
   "execution_count": 59,
   "metadata": {
    "collapsed": false
   },
   "outputs": [
    {
     "data": {
      "text/html": [
       "<div>\n",
       "<table border=\"1\" class=\"dataframe\">\n",
       "  <thead>\n",
       "    <tr style=\"text-align: right;\">\n",
       "      <th></th>\n",
       "      <th>margin1</th>\n",
       "      <th>margin2</th>\n",
       "      <th>margin3</th>\n",
       "      <th>margin4</th>\n",
       "      <th>margin5</th>\n",
       "      <th>margin6</th>\n",
       "      <th>margin7</th>\n",
       "      <th>margin8</th>\n",
       "      <th>margin9</th>\n",
       "      <th>margin10</th>\n",
       "      <th>...</th>\n",
       "      <th>texture55</th>\n",
       "      <th>texture56</th>\n",
       "      <th>texture57</th>\n",
       "      <th>texture58</th>\n",
       "      <th>texture59</th>\n",
       "      <th>texture60</th>\n",
       "      <th>texture61</th>\n",
       "      <th>texture62</th>\n",
       "      <th>texture63</th>\n",
       "      <th>texture64</th>\n",
       "    </tr>\n",
       "  </thead>\n",
       "  <tbody>\n",
       "    <tr>\n",
       "      <th>0</th>\n",
       "      <td>0.007812</td>\n",
       "      <td>0.023438</td>\n",
       "      <td>0.023438</td>\n",
       "      <td>0.003906</td>\n",
       "      <td>0.011719</td>\n",
       "      <td>0.009766</td>\n",
       "      <td>0.027344</td>\n",
       "      <td>0.0</td>\n",
       "      <td>0.001953</td>\n",
       "      <td>0.033203</td>\n",
       "      <td>...</td>\n",
       "      <td>0.007812</td>\n",
       "      <td>0.0</td>\n",
       "      <td>0.00293</td>\n",
       "      <td>0.00293</td>\n",
       "      <td>0.035156</td>\n",
       "      <td>0.0</td>\n",
       "      <td>0.0</td>\n",
       "      <td>0.004883</td>\n",
       "      <td>0.0</td>\n",
       "      <td>0.025391</td>\n",
       "    </tr>\n",
       "  </tbody>\n",
       "</table>\n",
       "<p>1 rows × 192 columns</p>\n",
       "</div>"
      ],
      "text/plain": [
       "    margin1   margin2   margin3   margin4   margin5   margin6   margin7  \\\n",
       "0  0.007812  0.023438  0.023438  0.003906  0.011719  0.009766  0.027344   \n",
       "\n",
       "   margin8   margin9  margin10    ...      texture55  texture56  texture57  \\\n",
       "0      0.0  0.001953  0.033203    ...       0.007812        0.0    0.00293   \n",
       "\n",
       "   texture58  texture59  texture60  texture61  texture62  texture63  texture64  \n",
       "0    0.00293   0.035156        0.0        0.0   0.004883        0.0   0.025391  \n",
       "\n",
       "[1 rows x 192 columns]"
      ]
     },
     "execution_count": 59,
     "metadata": {},
     "output_type": "execute_result"
    }
   ],
   "source": [
    "from sklearn.preprocessing import LabelEncoder\n",
    "def encode(train, test):\n",
    "    le = LabelEncoder().fit(train.species) \n",
    "    labels = le.transform(train.species)           # encode species strings\n",
    "    classes = list(le.classes_)                    # save column names for submission\n",
    "    test_ids = test.id                             # save test ids for submission\n",
    "    \n",
    "    train = train.drop(['species', 'id'], axis=1)  \n",
    "    test = test.drop(['id'], axis=1)\n",
    "    \n",
    "    return train, labels, test, test_ids, classes\n",
    "\n",
    "train, labels, test, test_ids, classes = encode(train, test)\n",
    "train.head(1)"
   ]
  },
  {
   "cell_type": "code",
   "execution_count": 60,
   "metadata": {
    "collapsed": false
   },
   "outputs": [],
   "source": [
    "from sklearn.preprocessing import StandardScaler\n",
    "sc = StandardScaler().fit(train)\n",
    "train = sc.transform(train)\n",
    "\n",
    "\n",
    "\n",
    "from sklearn.cross_validation import StratifiedShuffleSplit\n",
    "sss = StratifiedShuffleSplit(labels, 10, test_size=0.20, random_state=23)\n",
    "\n",
    "for train_index, val_index in sss:\n",
    "    X_train, X_val = train[train_index], train[val_index]\n",
    "    y_train, y_val = labels[train_index], labels[val_index]"
   ]
  },
  {
   "cell_type": "code",
   "execution_count": 61,
   "metadata": {
    "collapsed": false
   },
   "outputs": [],
   "source": [
    "from sklearn.linear_model import LogisticRegression as lr\n",
    "params = {\n",
    "    'C':[1000, 2000, 3000], \n",
    "    'tol': [0.001, 0.01]\n",
    "    }\n",
    "\n",
    "gs = GridSearchCV(lr(penalty='l2', solver='newton-cg', multi_class='multinomial'), param_grid=params, scoring='log_loss')"
   ]
  },
  {
   "cell_type": "code",
   "execution_count": 62,
   "metadata": {
    "collapsed": false
   },
   "outputs": [
    {
     "data": {
      "text/plain": [
       "GridSearchCV(cv=None, error_score='raise',\n",
       "       estimator=LogisticRegression(C=1.0, class_weight=None, dual=False, fit_intercept=True,\n",
       "          intercept_scaling=1, max_iter=100, multi_class='multinomial',\n",
       "          n_jobs=1, penalty='l2', random_state=None, solver='newton-cg',\n",
       "          tol=0.0001, verbose=0, warm_start=False),\n",
       "       fit_params={}, iid=True, n_jobs=1,\n",
       "       param_grid={'tol': [0.001, 0.01], 'C': [1000, 2000, 3000]},\n",
       "       pre_dispatch='2*n_jobs', refit=True, scoring='log_loss', verbose=0)"
      ]
     },
     "execution_count": 62,
     "metadata": {},
     "output_type": "execute_result"
    }
   ],
   "source": [
    "gs.fit(X_train, y_train)"
   ]
  },
  {
   "cell_type": "code",
   "execution_count": 63,
   "metadata": {
    "collapsed": false
   },
   "outputs": [
    {
     "data": {
      "text/plain": [
       "{'C': 2000, 'tol': 0.001}"
      ]
     },
     "execution_count": 63,
     "metadata": {},
     "output_type": "execute_result"
    }
   ],
   "source": [
    "gs.best_params_ "
   ]
  },
  {
   "cell_type": "code",
   "execution_count": 64,
   "metadata": {
    "collapsed": false
   },
   "outputs": [
    {
     "name": "stdout",
     "output_type": "stream",
     "text": [
      "0.989898989899\n",
      "0.0221098564026\n"
     ]
    }
   ],
   "source": [
    "from sklearn.metrics import accuracy_score, log_loss\n",
    "\n",
    "best_lr = gs.best_estimator_\n",
    "predictions = best_lr.predict(X_val)\n",
    "acc = accuracy_score(y_val, predictions)\n",
    "prob = best_lr.predict_proba(X_val)\n",
    "logloss = log_loss(y_val, prob)\n",
    "print(acc)\n",
    "print(logloss)"
   ]
  },
  {
   "cell_type": "code",
   "execution_count": 66,
   "metadata": {
    "collapsed": false
   },
   "outputs": [
    {
     "data": {
      "text/plain": [
       "LogisticRegression(C=2000, class_weight=None, dual=False, fit_intercept=True,\n",
       "          intercept_scaling=1, max_iter=100, multi_class='multinomial',\n",
       "          n_jobs=1, penalty='l2', random_state=None, solver='newton-cg',\n",
       "          tol=0.001, verbose=0, warm_start=False)"
      ]
     },
     "execution_count": 66,
     "metadata": {},
     "output_type": "execute_result"
    }
   ],
   "source": [
    "lr_for_submission = lr(C=2000, penalty='l2', tol=0.001, solver='newton-cg', multi_class='multinomial')\n",
    "lr_for_submission.fit(train, labels)"
   ]
  },
  {
   "cell_type": "code",
   "execution_count": 67,
   "metadata": {
    "collapsed": false
   },
   "outputs": [],
   "source": [
    "scaler = StandardScaler().fit(test)\n",
    "test = scaler.transform(test)\n",
    "test_predictions = lr_for_submission.predict_proba(test)"
   ]
  },
  {
   "cell_type": "code",
   "execution_count": 68,
   "metadata": {
    "collapsed": true
   },
   "outputs": [],
   "source": [
    "submission = pd.DataFrame(test_predictions, columns=classes)"
   ]
  },
  {
   "cell_type": "code",
   "execution_count": 69,
   "metadata": {
    "collapsed": false
   },
   "outputs": [],
   "source": [
    "submission.insert(0, 'id', test_ids)"
   ]
  },
  {
   "cell_type": "code",
   "execution_count": 70,
   "metadata": {
    "collapsed": false
   },
   "outputs": [
    {
     "data": {
      "text/html": [
       "<div>\n",
       "<table border=\"1\" class=\"dataframe\">\n",
       "  <thead>\n",
       "    <tr style=\"text-align: right;\">\n",
       "      <th></th>\n",
       "      <th>id</th>\n",
       "      <th>Acer_Capillipes</th>\n",
       "      <th>Acer_Circinatum</th>\n",
       "      <th>Acer_Mono</th>\n",
       "      <th>Acer_Opalus</th>\n",
       "      <th>Acer_Palmatum</th>\n",
       "      <th>Acer_Pictum</th>\n",
       "      <th>Acer_Platanoids</th>\n",
       "      <th>Acer_Rubrum</th>\n",
       "      <th>Acer_Rufinerve</th>\n",
       "      <th>...</th>\n",
       "      <th>Salix_Fragilis</th>\n",
       "      <th>Salix_Intergra</th>\n",
       "      <th>Sorbus_Aria</th>\n",
       "      <th>Tilia_Oliveri</th>\n",
       "      <th>Tilia_Platyphyllos</th>\n",
       "      <th>Tilia_Tomentosa</th>\n",
       "      <th>Ulmus_Bergmanniana</th>\n",
       "      <th>Viburnum_Tinus</th>\n",
       "      <th>Viburnum_x_Rhytidophylloides</th>\n",
       "      <th>Zelkova_Serrata</th>\n",
       "    </tr>\n",
       "  </thead>\n",
       "  <tbody>\n",
       "    <tr>\n",
       "      <th>589</th>\n",
       "      <td>1576</td>\n",
       "      <td>1.202762e-07</td>\n",
       "      <td>9.999278e-01</td>\n",
       "      <td>2.553694e-08</td>\n",
       "      <td>1.587918e-10</td>\n",
       "      <td>4.054814e-05</td>\n",
       "      <td>1.188320e-09</td>\n",
       "      <td>2.745718e-10</td>\n",
       "      <td>6.067553e-07</td>\n",
       "      <td>1.940357e-06</td>\n",
       "      <td>...</td>\n",
       "      <td>9.179105e-09</td>\n",
       "      <td>5.487835e-09</td>\n",
       "      <td>9.850891e-09</td>\n",
       "      <td>1.101469e-09</td>\n",
       "      <td>1.093571e-10</td>\n",
       "      <td>8.685867e-10</td>\n",
       "      <td>3.375683e-07</td>\n",
       "      <td>3.880784e-11</td>\n",
       "      <td>6.979956e-10</td>\n",
       "      <td>6.386308e-06</td>\n",
       "    </tr>\n",
       "    <tr>\n",
       "      <th>590</th>\n",
       "      <td>1577</td>\n",
       "      <td>3.893180e-08</td>\n",
       "      <td>4.110406e-08</td>\n",
       "      <td>2.110079e-10</td>\n",
       "      <td>1.124857e-07</td>\n",
       "      <td>3.761114e-09</td>\n",
       "      <td>2.845141e-11</td>\n",
       "      <td>5.056677e-09</td>\n",
       "      <td>1.353143e-05</td>\n",
       "      <td>5.353361e-05</td>\n",
       "      <td>...</td>\n",
       "      <td>6.044481e-09</td>\n",
       "      <td>2.596397e-09</td>\n",
       "      <td>6.183570e-06</td>\n",
       "      <td>7.140593e-10</td>\n",
       "      <td>1.754570e-05</td>\n",
       "      <td>1.566897e-05</td>\n",
       "      <td>2.286367e-07</td>\n",
       "      <td>5.894726e-11</td>\n",
       "      <td>8.792628e-10</td>\n",
       "      <td>1.609163e-05</td>\n",
       "    </tr>\n",
       "    <tr>\n",
       "      <th>591</th>\n",
       "      <td>1579</td>\n",
       "      <td>8.139623e-10</td>\n",
       "      <td>2.498155e-10</td>\n",
       "      <td>4.556931e-11</td>\n",
       "      <td>3.116939e-13</td>\n",
       "      <td>2.492860e-09</td>\n",
       "      <td>4.643892e-09</td>\n",
       "      <td>1.567921e-12</td>\n",
       "      <td>2.161275e-09</td>\n",
       "      <td>1.907297e-10</td>\n",
       "      <td>...</td>\n",
       "      <td>8.578305e-14</td>\n",
       "      <td>1.197044e-13</td>\n",
       "      <td>6.751291e-10</td>\n",
       "      <td>6.630584e-11</td>\n",
       "      <td>4.156543e-10</td>\n",
       "      <td>4.657194e-15</td>\n",
       "      <td>2.617162e-13</td>\n",
       "      <td>5.128736e-11</td>\n",
       "      <td>4.080694e-10</td>\n",
       "      <td>6.168079e-09</td>\n",
       "    </tr>\n",
       "    <tr>\n",
       "      <th>592</th>\n",
       "      <td>1580</td>\n",
       "      <td>7.517675e-10</td>\n",
       "      <td>1.791131e-10</td>\n",
       "      <td>2.369757e-08</td>\n",
       "      <td>3.282074e-09</td>\n",
       "      <td>9.795146e-09</td>\n",
       "      <td>1.313835e-11</td>\n",
       "      <td>3.969928e-08</td>\n",
       "      <td>2.205755e-07</td>\n",
       "      <td>4.711533e-11</td>\n",
       "      <td>...</td>\n",
       "      <td>3.679447e-08</td>\n",
       "      <td>5.482170e-07</td>\n",
       "      <td>4.762261e-12</td>\n",
       "      <td>2.085401e-07</td>\n",
       "      <td>5.871543e-12</td>\n",
       "      <td>2.207742e-08</td>\n",
       "      <td>1.850052e-10</td>\n",
       "      <td>4.692398e-10</td>\n",
       "      <td>9.631175e-13</td>\n",
       "      <td>6.984634e-11</td>\n",
       "    </tr>\n",
       "    <tr>\n",
       "      <th>593</th>\n",
       "      <td>1583</td>\n",
       "      <td>8.846914e-13</td>\n",
       "      <td>6.852121e-09</td>\n",
       "      <td>4.107826e-09</td>\n",
       "      <td>1.484884e-09</td>\n",
       "      <td>4.685332e-10</td>\n",
       "      <td>5.264904e-07</td>\n",
       "      <td>1.997298e-08</td>\n",
       "      <td>5.679432e-09</td>\n",
       "      <td>1.016609e-09</td>\n",
       "      <td>...</td>\n",
       "      <td>1.511257e-10</td>\n",
       "      <td>1.333899e-11</td>\n",
       "      <td>3.545895e-11</td>\n",
       "      <td>3.809790e-10</td>\n",
       "      <td>2.188963e-09</td>\n",
       "      <td>2.722873e-09</td>\n",
       "      <td>1.669480e-11</td>\n",
       "      <td>1.651252e-10</td>\n",
       "      <td>2.028744e-12</td>\n",
       "      <td>5.074998e-09</td>\n",
       "    </tr>\n",
       "  </tbody>\n",
       "</table>\n",
       "<p>5 rows × 100 columns</p>\n",
       "</div>"
      ],
      "text/plain": [
       "       id  Acer_Capillipes  Acer_Circinatum     Acer_Mono   Acer_Opalus  \\\n",
       "589  1576     1.202762e-07     9.999278e-01  2.553694e-08  1.587918e-10   \n",
       "590  1577     3.893180e-08     4.110406e-08  2.110079e-10  1.124857e-07   \n",
       "591  1579     8.139623e-10     2.498155e-10  4.556931e-11  3.116939e-13   \n",
       "592  1580     7.517675e-10     1.791131e-10  2.369757e-08  3.282074e-09   \n",
       "593  1583     8.846914e-13     6.852121e-09  4.107826e-09  1.484884e-09   \n",
       "\n",
       "     Acer_Palmatum   Acer_Pictum  Acer_Platanoids   Acer_Rubrum  \\\n",
       "589   4.054814e-05  1.188320e-09     2.745718e-10  6.067553e-07   \n",
       "590   3.761114e-09  2.845141e-11     5.056677e-09  1.353143e-05   \n",
       "591   2.492860e-09  4.643892e-09     1.567921e-12  2.161275e-09   \n",
       "592   9.795146e-09  1.313835e-11     3.969928e-08  2.205755e-07   \n",
       "593   4.685332e-10  5.264904e-07     1.997298e-08  5.679432e-09   \n",
       "\n",
       "     Acer_Rufinerve       ...         Salix_Fragilis  Salix_Intergra  \\\n",
       "589    1.940357e-06       ...           9.179105e-09    5.487835e-09   \n",
       "590    5.353361e-05       ...           6.044481e-09    2.596397e-09   \n",
       "591    1.907297e-10       ...           8.578305e-14    1.197044e-13   \n",
       "592    4.711533e-11       ...           3.679447e-08    5.482170e-07   \n",
       "593    1.016609e-09       ...           1.511257e-10    1.333899e-11   \n",
       "\n",
       "      Sorbus_Aria  Tilia_Oliveri  Tilia_Platyphyllos  Tilia_Tomentosa  \\\n",
       "589  9.850891e-09   1.101469e-09        1.093571e-10     8.685867e-10   \n",
       "590  6.183570e-06   7.140593e-10        1.754570e-05     1.566897e-05   \n",
       "591  6.751291e-10   6.630584e-11        4.156543e-10     4.657194e-15   \n",
       "592  4.762261e-12   2.085401e-07        5.871543e-12     2.207742e-08   \n",
       "593  3.545895e-11   3.809790e-10        2.188963e-09     2.722873e-09   \n",
       "\n",
       "     Ulmus_Bergmanniana  Viburnum_Tinus  Viburnum_x_Rhytidophylloides  \\\n",
       "589        3.375683e-07    3.880784e-11                  6.979956e-10   \n",
       "590        2.286367e-07    5.894726e-11                  8.792628e-10   \n",
       "591        2.617162e-13    5.128736e-11                  4.080694e-10   \n",
       "592        1.850052e-10    4.692398e-10                  9.631175e-13   \n",
       "593        1.669480e-11    1.651252e-10                  2.028744e-12   \n",
       "\n",
       "     Zelkova_Serrata  \n",
       "589     6.386308e-06  \n",
       "590     1.609163e-05  \n",
       "591     6.168079e-09  \n",
       "592     6.984634e-11  \n",
       "593     5.074998e-09  \n",
       "\n",
       "[5 rows x 100 columns]"
      ]
     },
     "execution_count": 70,
     "metadata": {},
     "output_type": "execute_result"
    }
   ],
   "source": [
    "submission.tail()"
   ]
  },
  {
   "cell_type": "code",
   "execution_count": 71,
   "metadata": {
    "collapsed": false
   },
   "outputs": [],
   "source": [
    "submission.to_csv('lr_2.csv', index=False)"
   ]
  },
  {
   "cell_type": "code",
   "execution_count": null,
   "metadata": {
    "collapsed": false
   },
   "outputs": [],
   "source": [
    "preds.shape\n",
    "withSpecies = pd.DataFrame(preds, columns= train.species.unique()).sort_index(axis=1)\n",
    "withSpecies['id'] = test.id"
   ]
  },
  {
   "cell_type": "code",
   "execution_count": null,
   "metadata": {
    "collapsed": false
   },
   "outputs": [],
   "source": [
    "cols = list(withSpecies)\n",
    "cols.insert(0, cols.pop(cols.index('id')))\n",
    "withSpecies = withSpecies.ix[:, cols]"
   ]
  },
  {
   "cell_type": "code",
   "execution_count": null,
   "metadata": {
    "collapsed": true
   },
   "outputs": [],
   "source": [
    "withSpecies.to_csv('one.csv', index=False)"
   ]
  }
 ],
 "metadata": {
  "kernelspec": {
   "display_name": "Python 3",
   "language": "python",
   "name": "python3"
  },
  "language_info": {
   "codemirror_mode": {
    "name": "ipython",
    "version": 3
   },
   "file_extension": ".py",
   "mimetype": "text/x-python",
   "name": "python",
   "nbconvert_exporter": "python",
   "pygments_lexer": "ipython3",
   "version": "3.5.1"
  }
 },
 "nbformat": 4,
 "nbformat_minor": 0
}
