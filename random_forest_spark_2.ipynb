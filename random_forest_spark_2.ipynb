{
 "cells": [
  {
   "cell_type": "markdown",
   "metadata": {},
   "source": [
    "## Set up the dataframe."
   ]
  },
  {
   "cell_type": "markdown",
   "metadata": {},
   "source": [
    "Read the data into a Rdd."
   ]
  },
  {
   "cell_type": "code",
   "execution_count": 2,
   "metadata": {
    "collapsed": false
   },
   "outputs": [],
   "source": [
    "import findspark\n",
    "findspark.init('/usr/local/bin/spark-2.0.1')\n",
    "\n",
    "import pyspark\n",
    "from pyspark.sql import SparkSession\n",
    "spark = SparkSession.builder \\\n",
    "    .master(\"local\") \\\n",
    "    .appName(\"Word Count\") \\\n",
    "    .getOrCreate()"
   ]
  },
  {
   "cell_type": "code",
   "execution_count": 3,
   "metadata": {
    "collapsed": false
   },
   "outputs": [],
   "source": [
    "sc = spark.sparkContext\n",
    "trainRdd = sc.textFile('input/tr.csv').cache()\n",
    "testRdd = sc.textFile('input/test.csv').cache()"
   ]
  },
  {
   "cell_type": "code",
   "execution_count": 4,
   "metadata": {
    "collapsed": false
   },
   "outputs": [],
   "source": [
    "def makeDF(rdd):\n",
    "    first = rdd.first()\n",
    "    notFirst = rdd.filter(lambda r: r != first)\n",
    "    tuples = notFirst.map(lambda x: tuple(x.split(',')))\n",
    "    return spark.createDataFrame(tuples, first.split(',')).cache()"
   ]
  },
  {
   "cell_type": "code",
   "execution_count": 5,
   "metadata": {
    "collapsed": false
   },
   "outputs": [],
   "source": [
    "train_df = makeDF(trainRdd)\n",
    "test_df = makeDF(testRdd)"
   ]
  },
  {
   "cell_type": "code",
   "execution_count": 6,
   "metadata": {
    "collapsed": false
   },
   "outputs": [
    {
     "name": "stdout",
     "output_type": "stream",
     "text": [
      "+--------------------+\n",
      "|             species|\n",
      "+--------------------+\n",
      "|         Acer_Opalus|\n",
      "|Pterocarya_Stenop...|\n",
      "|Quercus_Hartwissiana|\n",
      "|     Tilia_Tomentosa|\n",
      "|  Quercus_Variabilis|\n",
      "|Magnolia_Salicifolia|\n",
      "| Quercus_Canariensis|\n",
      "|       Quercus_Rubra|\n",
      "|     Quercus_Brantii|\n",
      "|      Salix_Fragilis|\n",
      "|     Zelkova_Serrata|\n",
      "|Betula_Austrosine...|\n",
      "|     Quercus_Pontica|\n",
      "|      Quercus_Afares|\n",
      "|   Quercus_Coccifera|\n",
      "|     Fagus_Sylvatica|\n",
      "|         Phildelphus|\n",
      "|       Acer_Palmatum|\n",
      "|   Quercus_Pubescens|\n",
      "|   Populus_Adenopoda|\n",
      "+--------------------+\n",
      "only showing top 20 rows\n",
      "\n"
     ]
    }
   ],
   "source": [
    "train_df.select('species').show()"
   ]
  },
  {
   "cell_type": "code",
   "execution_count": 7,
   "metadata": {
    "collapsed": false
   },
   "outputs": [
    {
     "data": {
      "text/plain": [
       "594"
      ]
     },
     "execution_count": 7,
     "metadata": {},
     "output_type": "execute_result"
    }
   ],
   "source": [
    "test_df.count()"
   ]
  },
  {
   "cell_type": "markdown",
   "metadata": {},
   "source": [
    "## Prepare the data for training."
   ]
  },
  {
   "cell_type": "markdown",
   "metadata": {},
   "source": [
    "Label encode the target column in the training set."
   ]
  },
  {
   "cell_type": "code",
   "execution_count": 12,
   "metadata": {
    "collapsed": false
   },
   "outputs": [
    {
     "name": "stdout",
     "output_type": "stream",
     "text": [
      "+--------------------+----------+\n",
      "|             species|speciesEnc|\n",
      "+--------------------+----------+\n",
      "|         Acer_Opalus|      48.0|\n",
      "|Pterocarya_Stenop...|      97.0|\n",
      "|Quercus_Hartwissiana|      15.0|\n",
      "|     Tilia_Tomentosa|      55.0|\n",
      "|  Quercus_Variabilis|      18.0|\n",
      "|Magnolia_Salicifolia|      38.0|\n",
      "| Quercus_Canariensis|      78.0|\n",
      "|       Quercus_Rubra|      98.0|\n",
      "|     Quercus_Brantii|      42.0|\n",
      "|      Salix_Fragilis|      88.0|\n",
      "|     Zelkova_Serrata|      36.0|\n",
      "|Betula_Austrosine...|       1.0|\n",
      "|     Quercus_Pontica|      50.0|\n",
      "|      Quercus_Afares|      25.0|\n",
      "|   Quercus_Coccifera|      29.0|\n",
      "|     Fagus_Sylvatica|      37.0|\n",
      "|         Phildelphus|      39.0|\n",
      "|       Acer_Palmatum|      77.0|\n",
      "|   Quercus_Pubescens|      69.0|\n",
      "|   Populus_Adenopoda|      34.0|\n",
      "+--------------------+----------+\n",
      "only showing top 20 rows\n",
      "\n"
     ]
    }
   ],
   "source": [
    "from pyspark.ml.feature import IndexToString, StringIndexer\n",
    "stInd = StringIndexer(inputCol='species', outputCol='speciesEnc')\n",
    "stIndModel = stInd.fit(train_df)\n",
    "train_df_enc = stIndModel.transform(train_df).cache()\n",
    "train_df_enc.select('species', 'speciesEnc').show()"
   ]
  },
  {
   "cell_type": "markdown",
   "metadata": {},
   "source": [
    "Create the features column that will be used to train the model."
   ]
  },
  {
   "cell_type": "code",
   "execution_count": 13,
   "metadata": {
    "collapsed": false
   },
   "outputs": [
    {
     "name": "stdout",
     "output_type": "stream",
     "text": [
      "+--------------------+----------+\n",
      "|            features|speciesEnc|\n",
      "+--------------------+----------+\n",
      "|[0.00781199987977...|      48.0|\n",
      "|[0.00585900014266...|      97.0|\n",
      "|[0.00585900014266...|      15.0|\n",
      "|[0.0,0.0039059999...|      55.0|\n",
      "|[0.00585900014266...|      18.0|\n",
      "|[0.0703120008111,...|      38.0|\n",
      "|[0.02148400060832...|      78.0|\n",
      "|[0.0,0.0,0.037108...|      98.0|\n",
      "|[0.00585900014266...|      42.0|\n",
      "|[0.0,0.0,0.009766...|      88.0|\n",
      "|[0.01953100040555...|      36.0|\n",
      "|[0.00195299996994...|       1.0|\n",
      "|[0.015625,0.01171...|      50.0|\n",
      "|[0.01171899959444...|      25.0|\n",
      "|[0.01171899959444...|      29.0|\n",
      "|[0.02734399959444...|      37.0|\n",
      "|[0.00976600032299...|      39.0|\n",
      "|[0.0,0.0,0.001952...|      77.0|\n",
      "|[0.00195299996994...|      69.0|\n",
      "|[0.00585900014266...|      34.0|\n",
      "+--------------------+----------+\n",
      "only showing top 20 rows\n",
      "\n"
     ]
    }
   ],
   "source": [
    "from pyspark.ml.feature import VectorAssembler\n",
    "from pyspark.sql.types import *\n",
    "cols = train_df_enc.columns\n",
    "cols.remove('species')\n",
    "cols.remove('speciesEnc')\n",
    "cols.remove('id')\n",
    "for col in cols:\n",
    "    train_df_enc = train_df_enc.withColumn(col, train_df_enc[col].cast(FloatType()))\n",
    "    test_df = test_df.withColumn(col, test_df[col].cast(FloatType()))\n",
    "\n",
    "va = VectorAssembler(inputCols=cols, outputCol=\"features\")\n",
    "train_df_vec = va.transform(train_df_enc).cache()\n",
    "test_df_vec = va.transform(test_df)\n",
    "train_df_vec.select('features', 'speciesEnc').show()"
   ]
  },
  {
   "cell_type": "code",
   "execution_count": 14,
   "metadata": {
    "collapsed": true
   },
   "outputs": [],
   "source": [
    "train_set, test_set = train_df_vec.select('features', 'speciesEnc').randomSplit([.8, .2])"
   ]
  },
  {
   "cell_type": "markdown",
   "metadata": {},
   "source": [
    "## Fit the model."
   ]
  },
  {
   "cell_type": "code",
   "execution_count": 15,
   "metadata": {
    "collapsed": true
   },
   "outputs": [],
   "source": [
    "from pyspark.ml import Pipeline\n",
    "from pyspark.ml.tuning import CrossValidator, ParamGridBuilder\n",
    "from pyspark.ml.classification import RandomForestClassifier\n",
    "from pyspark.ml.evaluation import MulticlassClassificationEvaluator\n",
    "\n",
    "rf = RandomForestClassifier(labelCol=\"speciesEnc\", predictionCol=\"prediction\", probabilityCol=\"probability\", rawPredictionCol=\"rawPrediction\", featureSubsetStrategy=\"auto\", impurity=\"gini\", seed=None)\n",
    "\n",
    "paramGrid = ParamGridBuilder() \\\n",
    "    .addGrid(rf.maxDepth, [5,10]) \\\n",
    "    .addGrid(rf.numTrees,  [10, 25, 50]) \\\n",
    "    .build()\n",
    "    \n",
    "    \n",
    "evaluator = MulticlassClassificationEvaluator(labelCol=\"speciesEnc\", predictionCol=\"prediction\")\n",
    "    \n",
    "crossval = CrossValidator(estimator=rf,\n",
    "                          estimatorParamMaps=paramGrid,\n",
    "                          evaluator=evaluator,\n",
    "                          numFolds=3)"
   ]
  },
  {
   "cell_type": "code",
   "execution_count": 16,
   "metadata": {
    "collapsed": true
   },
   "outputs": [],
   "source": [
    "cvModel = crossval.fit(train_set)"
   ]
  },
  {
   "cell_type": "code",
   "execution_count": 17,
   "metadata": {
    "collapsed": false
   },
   "outputs": [
    {
     "data": {
      "text/plain": [
       "[0.2444053501477224,\n",
       " 0.5048817696418642,\n",
       " 0.3650942291627472,\n",
       " 0.7168536969463511,\n",
       " 0.4583266302122232,\n",
       " 0.769789167019974]"
      ]
     },
     "execution_count": 17,
     "metadata": {},
     "output_type": "execute_result"
    }
   ],
   "source": [
    "cvModel.avgMetrics"
   ]
  },
  {
   "cell_type": "code",
   "execution_count": 19,
   "metadata": {
    "collapsed": false
   },
   "outputs": [],
   "source": [
    "cvModel.bestModel.save(\"spark_random_forest_model_2\")"
   ]
  },
  {
   "cell_type": "markdown",
   "metadata": {},
   "source": [
    "## Make predictions on the test set."
   ]
  },
  {
   "cell_type": "code",
   "execution_count": 20,
   "metadata": {
    "collapsed": false
   },
   "outputs": [
    {
     "name": "stdout",
     "output_type": "stream",
     "text": [
      "+--------------------+\n",
      "|             species|\n",
      "+--------------------+\n",
      "|      Quercus_Afares|\n",
      "|   Alnus_Sieboldiana|\n",
      "| Arundinaria_Simonii|\n",
      "|         Acer_Pictum|\n",
      "|Quercus_Semecarpi...|\n",
      "|Callicarpa_Bodinieri|\n",
      "|   Quercus_Alnifolia|\n",
      "|   Quercus_Shumardii|\n",
      "|     Acer_Circinatum|\n",
      "|     Tilia_Tomentosa|\n",
      "|     Fagus_Sylvatica|\n",
      "|   Cotinus_Coggygria|\n",
      "|     Acer_Capillipes|\n",
      "|   Quercus_Coccifera|\n",
      "|Viburnum_x_Rhytid...|\n",
      "|     Quercus_Pontica|\n",
      "|Populus_Grandiden...|\n",
      "|  Cornus_Controversa|\n",
      "|    Acer_Saccharinum|\n",
      "|   Prunus_X_Shmittii|\n",
      "+--------------------+\n",
      "only showing top 20 rows\n",
      "\n"
     ]
    }
   ],
   "source": [
    "train_df_vec.select('species').distinct().show()"
   ]
  },
  {
   "cell_type": "code",
   "execution_count": 21,
   "metadata": {
    "collapsed": false
   },
   "outputs": [],
   "source": [
    "prediction_df = cvModel.bestModel.transform(test_df_vec).cache()"
   ]
  },
  {
   "cell_type": "code",
   "execution_count": 22,
   "metadata": {
    "collapsed": false
   },
   "outputs": [],
   "source": [
    "species_labels = stIndModel.labels\n",
    "species_labels.insert(0,'id')"
   ]
  },
  {
   "cell_type": "code",
   "execution_count": 29,
   "metadata": {
    "collapsed": false
   },
   "outputs": [],
   "source": [
    "from decimal import *\n",
    "pred_rdd = prediction_df.select('id', 'probability').rdd.map(lambda x: [float(x[0])] + [Decimal(a) for a in x[1]])"
   ]
  },
  {
   "cell_type": "code",
   "execution_count": 31,
   "metadata": {
    "collapsed": false
   },
   "outputs": [],
   "source": [
    "sol_fields = [StructField(field_name, DecimalType(38, 38), True) for field_name in species_labels]\n",
    "sol_fields[0].dataType = FloatType()\n",
    "sol_schema=StructType(sol_fields)    \n",
    "pred_df = spark.createDataFrame(pred_rdd, sol_schema).cache()"
   ]
  },
  {
   "cell_type": "code",
   "execution_count": 32,
   "metadata": {
    "collapsed": false
   },
   "outputs": [],
   "source": [
    "import pandas as pd\n",
    "pd_dataframe = pred_df.toPandas()"
   ]
  }
 ],
 "metadata": {
  "kernelspec": {
   "display_name": "Python 3",
   "language": "python",
   "name": "python3"
  },
  "language_info": {
   "codemirror_mode": {
    "name": "ipython",
    "version": 3
   },
   "file_extension": ".py",
   "mimetype": "text/x-python",
   "name": "python",
   "nbconvert_exporter": "python",
   "pygments_lexer": "ipython3",
   "version": "3.5.1"
  }
 },
 "nbformat": 4,
 "nbformat_minor": 0
}
